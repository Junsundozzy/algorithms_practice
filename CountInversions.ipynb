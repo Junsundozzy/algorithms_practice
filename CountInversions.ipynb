{
 "cells": [
  {
   "cell_type": "code",
   "execution_count": 4,
   "metadata": {},
   "outputs": [],
   "source": [
    "def count_inversion(arr, start, end):\n",
    "    if (start == end):\n",
    "        return 0\n",
    "    else:\n",
    "        b = count_inversion(arr, start, (end+start)//2)\n",
    "        c = count_inversion(arr, (end+start)//2 + 1, end)\n",
    "        d = count_split(arr, start, (end+start)//2 + 1, end)\n",
    "    \n",
    "    \n",
    "    return b+c+d"
   ]
  },
  {
   "cell_type": "code",
   "execution_count": 8,
   "metadata": {},
   "outputs": [],
   "source": [
    "def count_split(arr, start, m, end):\n",
    "    i = start\n",
    "    j = m\n",
    "    res = []\n",
    "    \n",
    "    inv = 0\n",
    "    \n",
    "    while (i < m or j <= end):\n",
    "        if (i == m):\n",
    "            res.append(arr[j])\n",
    "            j += 1\n",
    "        elif (j > end):\n",
    "            res.append(arr[i])\n",
    "            i += 1\n",
    "        elif (arr[i] <= arr[j]):\n",
    "            res.append(arr[i])\n",
    "            i += 1\n",
    "        else:\n",
    "            inv += (m-i)\n",
    "            res.append(arr[j])\n",
    "            j += 1\n",
    "    i = start\n",
    "    while (i <= end):\n",
    "        arr[i] = res[i-start]\n",
    "        i += 1\n",
    "    \n",
    "    return inv"
   ]
  },
  {
   "cell_type": "code",
   "execution_count": 9,
   "metadata": {},
   "outputs": [],
   "source": [
    "def CountInversions(arr):\n",
    "    return count_inversion(arr, 0, len(arr)-1)"
   ]
  },
  {
   "cell_type": "code",
   "execution_count": 10,
   "metadata": {},
   "outputs": [
    {
     "name": "stdout",
     "output_type": "stream",
     "text": [
      "0\n",
      "15\n",
      "3\n"
     ]
    }
   ],
   "source": [
    "print(CountInversions([1,2,3,4,5,6]))\n",
    "print(CountInversions([6,5,4,3,2,1]))\n",
    "print(CountInversions([1,3,5,2,4,6]))"
   ]
  },
  {
   "cell_type": "code",
   "execution_count": null,
   "metadata": {},
   "outputs": [],
   "source": []
  }
 ],
 "metadata": {
  "kernelspec": {
   "display_name": "Python 3",
   "language": "python",
   "name": "python3"
  },
  "language_info": {
   "codemirror_mode": {
    "name": "ipython",
    "version": 3
   },
   "file_extension": ".py",
   "mimetype": "text/x-python",
   "name": "python",
   "nbconvert_exporter": "python",
   "pygments_lexer": "ipython3",
   "version": "3.6.4"
  }
 },
 "nbformat": 4,
 "nbformat_minor": 2
}
